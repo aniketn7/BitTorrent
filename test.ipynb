{
 "cells": [
  {
   "cell_type": "code",
   "execution_count": 1,
   "metadata": {},
   "outputs": [],
   "source": [
    "%load_ext autoreload\n",
    "%autoreload 2"
   ]
  },
  {
   "cell_type": "code",
   "execution_count": 2,
   "metadata": {},
   "outputs": [],
   "source": [
    "import random\n",
    "import os\n",
    "from pprint import pp\n",
    "from bittorrent import BitTorrentClient"
   ]
  },
  {
   "cell_type": "code",
   "execution_count": 3,
   "metadata": {},
   "outputs": [],
   "source": [
    "# Create client\n",
    "DIR = 'http_examples'\n",
    "def get_random_metainfo_filepath():\n",
    "    random_file = random.choice(os.listdir(DIR))\n",
    "    return f'{DIR}/{random_file}'\n",
    "client = BitTorrentClient(get_random_metainfo_filepath())"
   ]
  },
  {
   "cell_type": "code",
   "execution_count": null,
   "metadata": {},
   "outputs": [],
   "source": [
    "# Test MetaInfo parsing\n",
    "print(\"MetaInfo Dict:\")\n",
    "pp(client.metainfo.__dict__)\n",
    "print(\"Announce URLS:\")\n",
    "pp(client.metainfo.announce_urls)"
   ]
  },
  {
   "cell_type": "code",
   "execution_count": null,
   "metadata": {},
   "outputs": [],
   "source": [
    "# Test Tracker parsing\n",
    "print(\"Tracker Dicts:\")\n",
    "pp([tracker.__dict__ for tracker in client.trackers])"
   ]
  },
  {
   "cell_type": "code",
   "execution_count": 4,
   "metadata": {},
   "outputs": [
    {
     "name": "stdout",
     "output_type": "stream",
     "text": [
      "[{b'ip': b'72.28.130.143', b'port': 24812}, {b'ip': b'176.213.135.85', b'port': 6881}, {b'ip': b'189.29.146.186', b'port': 51413}, {b'ip': b'93.216.7.216', b'port': 39798}, {b'ip': b'5.144.66.84', b'port': 6881}, {b'ip': b'185.107.13.235', b'port': 54542}, {b'ip': b'46.114.238.62', b'port': 6980}, {b'ip': b'185.148.0.134', b'port': 30918}, {b'ip': b'95.110.181.225', b'port': 13264}, {b'ip': b'1.21.119.10', b'port': 18928}, {b'ip': b'185.159.158.107', b'port': 45794}, {b'ip': b'198.144.156.32', b'port': 1}, {b'ip': b'185.84.175.17', b'port': 53823}, {b'ip': b'46.149.125.26', b'port': 51413}, {b'ip': b'87.122.225.74', b'port': 26158}, {b'ip': b'209.121.33.215', b'port': 6881}, {b'ip': b'150.143.58.42', b'port': 51413}, {b'ip': b'92.255.207.93', b'port': 52500}, {b'ip': b'139.47.71.64', b'port': 51413}, {b'ip': b'93.141.160.78', b'port': 29909}, {b'ip': b'216.24.40.188', b'port': 60061}, {b'ip': b'45.134.213.217', b'port': 1860}, {b'ip': b'188.114.67.53', b'port': 41554}, {b'ip': b'149.28.249.58', b'port': 51413}, {b'ip': b'213.14.160.110', b'port': 6881}, {b'ip': b'198.96.89.216', b'port': 6881}, {b'ip': b'188.37.160.60', b'port': 22473}, {b'ip': b'82.65.230.159', b'port': 63812}, {b'ip': b'109.230.59.3', b'port': 51413}, {b'ip': b'172.111.244.67', b'port': 7339}, {b'ip': b'146.70.198.10', b'port': 36312}, {b'ip': b'86.248.243.65', b'port': 51413}, {b'ip': b'14.145.56.107', b'port': 4192}, {b'ip': b'70.175.76.239', b'port': 22222}, {b'ip': b'77.103.23.214', b'port': 6881}, {b'ip': b'185.156.46.38', b'port': 48851}, {b'ip': b'31.41.71.131', b'port': 33232}, {b'ip': b'185.156.175.43', b'port': 35205}, {b'ip': b'146.70.211.182', b'port': 6881}, {b'ip': b'109.195.35.96', b'port': 51413}, {b'ip': b'5.144.97.8', b'port': 21248}, {b'ip': b'157.131.154.250', b'port': 16881}, {b'ip': b'37.187.99.62', b'port': 49161}, {b'ip': b'195.32.9.160', b'port': 51413}, {b'ip': b'177.76.184.69', b'port': 1144}, {b'ip': b'37.187.114.36', b'port': 51413}, {b'ip': b'24.220.83.149', b'port': 8080}, {b'ip': b'193.32.127.230', b'port': 51473}, {b'ip': b'52.124.33.177', b'port': 6885}, {b'ip': b'134.19.179.211', b'port': 48278}]\n"
     ]
    }
   ],
   "source": [
    "# Prepare for download\n",
    "client.prepare()\n",
    "# client.peers = client._get_peers()"
   ]
  },
  {
   "cell_type": "code",
   "execution_count": null,
   "metadata": {},
   "outputs": [],
   "source": [
    "# Test Peers parsing\n",
    "print(\"Peers:\")\n",
    "pp([peer.__dict__ for peer in client.peers])"
   ]
  },
  {
   "cell_type": "code",
   "execution_count": null,
   "metadata": {},
   "outputs": [],
   "source": [
    "# Test Pieces generation\n",
    "print(\"Pieces:\")\n",
    "pp([piece.__dict__ for piece in client.pieces[:50]])"
   ]
  },
  {
   "cell_type": "code",
   "execution_count": null,
   "metadata": {},
   "outputs": [],
   "source": []
  },
  {
   "cell_type": "code",
   "execution_count": null,
   "metadata": {},
   "outputs": [],
   "source": [
    "for peer in client.peers:\n",
    "    peer.setup()"
   ]
  },
  {
   "cell_type": "code",
   "execution_count": null,
   "metadata": {},
   "outputs": [],
   "source": []
  },
  {
   "cell_type": "code",
   "execution_count": null,
   "metadata": {},
   "outputs": [],
   "source": [
    "import time\n",
    "\n",
    "def get_valid_peer():\n",
    "    peer = random.choice(client.peers)\n",
    "    try:\n",
    "        peer.connect()\n",
    "        return peer\n",
    "    except TimeoutError:\n",
    "        return get_valid_peer()\n",
    "\n",
    "def get_handshaked_peer():\n",
    "    valid_peer = get_valid_peer()\n",
    "    print(f\"Peer: {valid_peer.ip}:{valid_peer.port}\")\n",
    "    valid_peer.send_handshake()\n",
    "    time.sleep(1)\n",
    "    valid_peer.receive_message()\n",
    "    return valid_peer if valid_peer.handshaked else get_handshaked_peer()\n",
    "\n",
    "valid_peer = get_handshaked_peer()"
   ]
  },
  {
   "cell_type": "code",
   "execution_count": null,
   "metadata": {},
   "outputs": [],
   "source": [
    "valid_peer.handshaked"
   ]
  },
  {
   "cell_type": "code",
   "execution_count": null,
   "metadata": {},
   "outputs": [],
   "source": [
    "valid_peer.send_interested()"
   ]
  },
  {
   "cell_type": "code",
   "execution_count": null,
   "metadata": {},
   "outputs": [],
   "source": [
    "message = valid_peer.receive_message()\n",
    "print(message)"
   ]
  },
  {
   "cell_type": "code",
   "execution_count": null,
   "metadata": {},
   "outputs": [],
   "source": [
    "print(\"Bitfield:\")\n",
    "print(valid_peer.bitfield)"
   ]
  },
  {
   "cell_type": "code",
   "execution_count": null,
   "metadata": {},
   "outputs": [],
   "source": []
  },
  {
   "cell_type": "code",
   "execution_count": null,
   "metadata": {},
   "outputs": [],
   "source": [
    "piece = valid_peer.pending_piece\n",
    "if piece:\n",
    "    print(piece.request_message.__dict__)\n",
    "else:\n",
    "    print(\"No pending piece\")"
   ]
  },
  {
   "cell_type": "code",
   "execution_count": null,
   "metadata": {},
   "outputs": [],
   "source": [
    "valid_peer.receive_message()\n",
    "# print(valid_peer.pending_piece) # Should be None\n",
    "if piece:\n",
    "    print(piece.data) # Should be filled\n",
    "    print(len(piece.data), client.metainfo.piece_length) # Should be == client.metainfo.piece_length"
   ]
  },
  {
   "cell_type": "code",
   "execution_count": null,
   "metadata": {},
   "outputs": [],
   "source": []
  }
 ],
 "metadata": {
  "kernelspec": {
   "display_name": "Python 3",
   "language": "python",
   "name": "python3"
  },
  "language_info": {
   "codemirror_mode": {
    "name": "ipython",
    "version": 3
   },
   "file_extension": ".py",
   "mimetype": "text/x-python",
   "name": "python",
   "nbconvert_exporter": "python",
   "pygments_lexer": "ipython3",
   "version": "3.12.2"
  }
 },
 "nbformat": 4,
 "nbformat_minor": 2
}
